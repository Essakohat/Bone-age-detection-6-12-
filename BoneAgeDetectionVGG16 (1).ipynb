{
  "cells": [
    {
      "cell_type": "code",
      "execution_count": 4,
      "metadata": {
        "id": "kqyrsP1jV4e3"
      },
      "outputs": [],
      "source": [
        "import numpy as np\n",
        "import matplotlib.pyplot as plt\n",
        "from tensorflow.keras.preprocessing.image import ImageDataGenerator\n",
        "from tensorflow.keras.models import Model\n",
        "from tensorflow.keras.layers import Dense, Flatten, Dropout\n",
        "from tensorflow.keras.applications import VGG16\n",
        "from tensorflow.keras.optimizers import Adam\n",
        "from tensorflow.keras.callbacks import ModelCheckpoint, EarlyStopping\n",
        "import tensorflow as tf\n",
        "import cv2"
      ]
    },
    {
      "cell_type": "code",
      "source": [
        "from google.colab import drive\n",
        "drive.mount('/content/drive')"
      ],
      "metadata": {
        "colab": {
          "base_uri": "https://localhost:8080/"
        },
        "id": "hNfgF5rN4Ck-",
        "outputId": "7c830cf3-b1fe-4a6d-d670-077e9ca9c709"
      },
      "execution_count": 3,
      "outputs": [
        {
          "output_type": "stream",
          "name": "stdout",
          "text": [
            "Mounted at /content/drive\n"
          ]
        }
      ]
    },
    {
      "cell_type": "code",
      "execution_count": 5,
      "metadata": {
        "colab": {
          "base_uri": "https://localhost:8080/"
        },
        "id": "TF1wmKjGXg_D",
        "outputId": "27555f15-3a4b-4acf-dac1-9621c12540dd"
      },
      "outputs": [
        {
          "output_type": "stream",
          "name": "stdout",
          "text": [
            "Downloading data from https://storage.googleapis.com/tensorflow/keras-applications/vgg16/vgg16_weights_tf_dim_ordering_tf_kernels_notop.h5\n",
            "\u001b[1m58889256/58889256\u001b[0m \u001b[32m━━━━━━━━━━━━━━━━━━━━\u001b[0m\u001b[37m\u001b[0m \u001b[1m2s\u001b[0m 0us/step\n"
          ]
        }
      ],
      "source": [
        "base_model = VGG16(weights='imagenet', include_top=False, input_shape=(224, 224, 3))\n",
        "\n",
        "# Adding custom layers\n",
        "x = base_model.output\n",
        "x = Flatten()(x)  # output of VGG16 to 1D\n",
        "x = Dense(128, activation='relu')(x)  #connected layer\n",
        "x = Dropout(0.5)(x)  # layer for overfitting permit\n",
        "predictions = Dense(1, activation='sigmoid')(x)\n",
        "\n",
        "\n",
        "model = Model(inputs=base_model.input, outputs=predictions)\n",
        "\n",
        "# Freeze the layers\n",
        "for layer in base_model.layers:\n",
        "    layer.trainable = False\n",
        "\n",
        "model.compile(optimizer=Adam(learning_rate=0.0001), loss='binary_crossentropy', metrics=['accuracy'])"
      ]
    },
    {
      "cell_type": "code",
      "execution_count": 6,
      "metadata": {
        "colab": {
          "base_uri": "https://localhost:8080/"
        },
        "id": "9UsmwZaEXnm4",
        "outputId": "f117c18b-dffb-45fb-bb10-854a2d6debea"
      },
      "outputs": [
        {
          "output_type": "stream",
          "name": "stdout",
          "text": [
            "Found 1002 images belonging to 2 classes.\n",
            "Found 250 images belonging to 2 classes.\n"
          ]
        }
      ],
      "source": [
        "train_data_dir = '/content/drive/MyDrive/dataset/train'\n",
        "valid_data_dir = '/content/drive/MyDrive/dataset/valid'\n",
        "\n",
        "# Data augmentation for training\n",
        "train_datagen = ImageDataGenerator(\n",
        "    rescale=1./255,\n",
        "    rotation_range=40,\n",
        "    width_shift_range=0.2,\n",
        "    height_shift_range=0.2,\n",
        "    shear_range=0.2,\n",
        "    zoom_range=0.2,\n",
        "    horizontal_flip=True,\n",
        "    fill_mode='nearest'\n",
        ")\n",
        "\n",
        "# Only rescaling for validation\n",
        "valid_datagen = ImageDataGenerator(rescale=1./255)\n",
        "\n",
        "# Create data generators\n",
        "train_generator = train_datagen.flow_from_directory(\n",
        "    train_data_dir,\n",
        "    target_size=(224, 224),\n",
        "    batch_size=32,\n",
        "    class_mode='binary'\n",
        ")\n",
        "\n",
        "val_generator = valid_datagen.flow_from_directory(\n",
        "    valid_data_dir,\n",
        "    target_size=(224, 224),\n",
        "    batch_size=32,\n",
        "    class_mode='binary'\n",
        ")\n"
      ]
    },
    {
      "cell_type": "code",
      "execution_count": 14,
      "metadata": {
        "colab": {
          "base_uri": "https://localhost:8080/",
          "height": 480
        },
        "id": "aVsUy1DXXyAA",
        "outputId": "b703ec31-3355-492c-d54b-836b1777a873"
      },
      "outputs": [
        {
          "output_type": "stream",
          "name": "stdout",
          "text": [
            "Epoch 1/20\n",
            "\u001b[1m32/32\u001b[0m \u001b[32m━━━━━━━━━━━━━━━━━━━━\u001b[0m\u001b[37m\u001b[0m \u001b[1m0s\u001b[0m 1s/step - accuracy: 0.7689 - loss: 0.4976\n",
            "Epoch 1: val_accuracy improved from -inf to 0.85600, saving model to best_model_VGG16.keras\n",
            "\u001b[1m32/32\u001b[0m \u001b[32m━━━━━━━━━━━━━━━━━━━━\u001b[0m\u001b[37m\u001b[0m \u001b[1m59s\u001b[0m 2s/step - accuracy: 0.7684 - loss: 0.4981 - val_accuracy: 0.8560 - val_loss: 0.3911\n",
            "Epoch 2/20\n"
          ]
        },
        {
          "output_type": "error",
          "ename": "KeyboardInterrupt",
          "evalue": "",
          "traceback": [
            "\u001b[0;31m---------------------------------------------------------------------------\u001b[0m",
            "\u001b[0;31mKeyboardInterrupt\u001b[0m                         Traceback (most recent call last)",
            "\u001b[0;32m<ipython-input-14-a8d06dcd9d37>\u001b[0m in \u001b[0;36m<cell line: 19>\u001b[0;34m()\u001b[0m\n\u001b[1;32m     17\u001b[0m \u001b[0;34m\u001b[0m\u001b[0m\n\u001b[1;32m     18\u001b[0m \u001b[0;31m#  Train the model\u001b[0m\u001b[0;34m\u001b[0m\u001b[0;34m\u001b[0m\u001b[0m\n\u001b[0;32m---> 19\u001b[0;31m history = model.fit(\n\u001b[0m\u001b[1;32m     20\u001b[0m     \u001b[0mtrain_generator\u001b[0m\u001b[0;34m,\u001b[0m\u001b[0;34m\u001b[0m\u001b[0;34m\u001b[0m\u001b[0m\n\u001b[1;32m     21\u001b[0m     \u001b[0mepochs\u001b[0m\u001b[0;34m=\u001b[0m\u001b[0;36m20\u001b[0m\u001b[0;34m,\u001b[0m  \u001b[0;31m# Max number of epochs\u001b[0m\u001b[0;34m\u001b[0m\u001b[0;34m\u001b[0m\u001b[0m\n",
            "\u001b[0;32m/usr/local/lib/python3.10/dist-packages/keras/src/utils/traceback_utils.py\u001b[0m in \u001b[0;36merror_handler\u001b[0;34m(*args, **kwargs)\u001b[0m\n\u001b[1;32m    115\u001b[0m         \u001b[0mfiltered_tb\u001b[0m \u001b[0;34m=\u001b[0m \u001b[0;32mNone\u001b[0m\u001b[0;34m\u001b[0m\u001b[0;34m\u001b[0m\u001b[0m\n\u001b[1;32m    116\u001b[0m         \u001b[0;32mtry\u001b[0m\u001b[0;34m:\u001b[0m\u001b[0;34m\u001b[0m\u001b[0;34m\u001b[0m\u001b[0m\n\u001b[0;32m--> 117\u001b[0;31m             \u001b[0;32mreturn\u001b[0m \u001b[0mfn\u001b[0m\u001b[0;34m(\u001b[0m\u001b[0;34m*\u001b[0m\u001b[0margs\u001b[0m\u001b[0;34m,\u001b[0m \u001b[0;34m**\u001b[0m\u001b[0mkwargs\u001b[0m\u001b[0;34m)\u001b[0m\u001b[0;34m\u001b[0m\u001b[0;34m\u001b[0m\u001b[0m\n\u001b[0m\u001b[1;32m    118\u001b[0m         \u001b[0;32mexcept\u001b[0m \u001b[0mException\u001b[0m \u001b[0;32mas\u001b[0m \u001b[0me\u001b[0m\u001b[0;34m:\u001b[0m\u001b[0;34m\u001b[0m\u001b[0;34m\u001b[0m\u001b[0m\n\u001b[1;32m    119\u001b[0m             \u001b[0mfiltered_tb\u001b[0m \u001b[0;34m=\u001b[0m \u001b[0m_process_traceback_frames\u001b[0m\u001b[0;34m(\u001b[0m\u001b[0me\u001b[0m\u001b[0;34m.\u001b[0m\u001b[0m__traceback__\u001b[0m\u001b[0;34m)\u001b[0m\u001b[0;34m\u001b[0m\u001b[0;34m\u001b[0m\u001b[0m\n",
            "\u001b[0;32m/usr/local/lib/python3.10/dist-packages/keras/src/backend/tensorflow/trainer.py\u001b[0m in \u001b[0;36mfit\u001b[0;34m(self, x, y, batch_size, epochs, verbose, callbacks, validation_split, validation_data, shuffle, class_weight, sample_weight, initial_epoch, steps_per_epoch, validation_steps, validation_batch_size, validation_freq)\u001b[0m\n\u001b[1;32m    315\u001b[0m             \u001b[0;32mwith\u001b[0m \u001b[0mepoch_iterator\u001b[0m\u001b[0;34m.\u001b[0m\u001b[0mcatch_stop_iteration\u001b[0m\u001b[0;34m(\u001b[0m\u001b[0;34m)\u001b[0m\u001b[0;34m:\u001b[0m\u001b[0;34m\u001b[0m\u001b[0;34m\u001b[0m\u001b[0m\n\u001b[1;32m    316\u001b[0m                 \u001b[0;32mfor\u001b[0m \u001b[0mstep\u001b[0m\u001b[0;34m,\u001b[0m \u001b[0miterator\u001b[0m \u001b[0;32min\u001b[0m \u001b[0mepoch_iterator\u001b[0m\u001b[0;34m.\u001b[0m\u001b[0menumerate_epoch\u001b[0m\u001b[0;34m(\u001b[0m\u001b[0;34m)\u001b[0m\u001b[0;34m:\u001b[0m\u001b[0;34m\u001b[0m\u001b[0;34m\u001b[0m\u001b[0m\n\u001b[0;32m--> 317\u001b[0;31m                     \u001b[0mcallbacks\u001b[0m\u001b[0;34m.\u001b[0m\u001b[0mon_train_batch_begin\u001b[0m\u001b[0;34m(\u001b[0m\u001b[0mstep\u001b[0m\u001b[0;34m)\u001b[0m\u001b[0;34m\u001b[0m\u001b[0;34m\u001b[0m\u001b[0m\n\u001b[0m\u001b[1;32m    318\u001b[0m                     \u001b[0mlogs\u001b[0m \u001b[0;34m=\u001b[0m \u001b[0mself\u001b[0m\u001b[0;34m.\u001b[0m\u001b[0mtrain_function\u001b[0m\u001b[0;34m(\u001b[0m\u001b[0miterator\u001b[0m\u001b[0;34m)\u001b[0m\u001b[0;34m\u001b[0m\u001b[0;34m\u001b[0m\u001b[0m\n\u001b[1;32m    319\u001b[0m                     \u001b[0mlogs\u001b[0m \u001b[0;34m=\u001b[0m \u001b[0mself\u001b[0m\u001b[0;34m.\u001b[0m\u001b[0m_pythonify_logs\u001b[0m\u001b[0;34m(\u001b[0m\u001b[0mlogs\u001b[0m\u001b[0;34m)\u001b[0m\u001b[0;34m\u001b[0m\u001b[0;34m\u001b[0m\u001b[0m\n",
            "\u001b[0;32m/usr/local/lib/python3.10/dist-packages/keras/src/callbacks/callback_list.py\u001b[0m in \u001b[0;36mon_train_batch_begin\u001b[0;34m(self, batch, logs)\u001b[0m\n\u001b[1;32m     96\u001b[0m             \u001b[0mcallback\u001b[0m\u001b[0;34m.\u001b[0m\u001b[0mon_epoch_end\u001b[0m\u001b[0;34m(\u001b[0m\u001b[0mepoch\u001b[0m\u001b[0;34m,\u001b[0m \u001b[0mlogs\u001b[0m\u001b[0;34m)\u001b[0m\u001b[0;34m\u001b[0m\u001b[0;34m\u001b[0m\u001b[0m\n\u001b[1;32m     97\u001b[0m \u001b[0;34m\u001b[0m\u001b[0m\n\u001b[0;32m---> 98\u001b[0;31m     \u001b[0;32mdef\u001b[0m \u001b[0mon_train_batch_begin\u001b[0m\u001b[0;34m(\u001b[0m\u001b[0mself\u001b[0m\u001b[0;34m,\u001b[0m \u001b[0mbatch\u001b[0m\u001b[0;34m,\u001b[0m \u001b[0mlogs\u001b[0m\u001b[0;34m=\u001b[0m\u001b[0;32mNone\u001b[0m\u001b[0;34m)\u001b[0m\u001b[0;34m:\u001b[0m\u001b[0;34m\u001b[0m\u001b[0;34m\u001b[0m\u001b[0m\n\u001b[0m\u001b[1;32m     99\u001b[0m         \u001b[0mlogs\u001b[0m \u001b[0;34m=\u001b[0m \u001b[0mlogs\u001b[0m \u001b[0;32mor\u001b[0m \u001b[0;34m{\u001b[0m\u001b[0;34m}\u001b[0m\u001b[0;34m\u001b[0m\u001b[0;34m\u001b[0m\u001b[0m\n\u001b[1;32m    100\u001b[0m         \u001b[0;32mfor\u001b[0m \u001b[0mcallback\u001b[0m \u001b[0;32min\u001b[0m \u001b[0mself\u001b[0m\u001b[0;34m.\u001b[0m\u001b[0mcallbacks\u001b[0m\u001b[0;34m:\u001b[0m\u001b[0;34m\u001b[0m\u001b[0;34m\u001b[0m\u001b[0m\n",
            "\u001b[0;31mKeyboardInterrupt\u001b[0m: "
          ]
        }
      ],
      "source": [
        "# Callbacks for saving the best model and early stopping\n",
        "checkpoint = ModelCheckpoint(\n",
        "    'best_model_VGG16.keras',\n",
        "     monitor='val_accuracy',  # Monitors validation accuracy\n",
        "     save_best_only=True,  # Save only when accuracy improves\n",
        "     mode='max',  # Maximize accuracy\n",
        "     verbose=1  # Print update messages\n",
        "    )\n",
        "\n",
        "early_stopping = EarlyStopping(\n",
        "    monitor='val_loss',  # Monitors validation loss\n",
        "    patience=5,  # Stop training after 5 epochs with no improvement\n",
        "    restore_best_weights=True,  # Restore the best model after stopping\n",
        "    verbose=1  # Print update messages\n",
        "\n",
        "    )\n",
        "\n",
        "#  Train the model\n",
        "history = model.fit(\n",
        "    train_generator,\n",
        "    epochs=20,  # Max number of epochs\n",
        "    validation_data=val_generator,\n",
        "    # validation_steps=val_generator.samples // val_generator.batch_size,  # Steps per validation epoch\n",
        "    callbacks=[checkpoint, early_stopping],\n",
        "    verbose=1\n",
        ")"
      ]
    },
    {
      "cell_type": "code",
      "execution_count": 13,
      "metadata": {
        "colab": {
          "base_uri": "https://localhost:8080/",
          "height": 927
        },
        "id": "53CE3x86XzaS",
        "outputId": "a359913a-335e-4421-f8d0-04e6b394c83e"
      },
      "outputs": [
        {
          "output_type": "display_data",
          "data": {
            "text/plain": [
              "<Figure size 640x480 with 1 Axes>"
            ],
            "image/png": "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\n"
          },
          "metadata": {}
        },
        {
          "output_type": "display_data",
          "data": {
            "text/plain": [
              "<Figure size 640x480 with 1 Axes>"
            ],
            "image/png": "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\n"
          },
          "metadata": {}
        }
      ],
      "source": [
        "# Plot training and validation accuracy/loss with required changes\n",
        "\n",
        "# Accuracy Plot\n",
        "plt.plot(history.history['accuracy'], label='Train Accuracy')\n",
        "plt.plot(history.history['val_accuracy'], label='Val Accuracy')\n",
        "plt.title('Training and Validation Accuracy')\n",
        "plt.xlabel('Epochs')\n",
        "plt.ylabel('Accuracy')\n",
        "\n",
        "# Setting x-axis from 0 to 20 in whole numbers\n",
        "plt.xticks(range(1, 18, 1))  # Showing epochs as whole numbers from 1 to 20\n",
        "\n",
        "# Setting y-axis for accuracy from 0.0 to 0.90\n",
        "plt.ylim(0.30, 0.92)\n",
        "\n",
        "plt.legend()\n",
        "plt.show()\n",
        "\n",
        "# Loss Plot\n",
        "plt.plot(history.history['loss'], label='Train Loss')\n",
        "plt.plot(history.history['val_loss'], label='Val Loss')\n",
        "plt.title('Training and Validation Loss')\n",
        "plt.xlabel('Epochs')\n",
        "plt.ylabel('Loss')\n",
        "\n",
        "# Setting x-axis from 0 to 20 in whole numbers\n",
        "plt.xticks(range(1, 18, 1))  # Showing epochs as whole numbers from 1 to 20\n",
        "\n",
        "plt.legend()\n",
        "plt.show()"
      ]
    },
    {
      "cell_type": "code",
      "execution_count": 15,
      "metadata": {
        "colab": {
          "base_uri": "https://localhost:8080/",
          "height": 17
        },
        "id": "E9-_D6GspbIc",
        "outputId": "deadff46-bd0b-4a1d-9509-ea9072296a33"
      },
      "outputs": [
        {
          "output_type": "display_data",
          "data": {
            "text/plain": [
              "<IPython.core.display.Javascript object>"
            ],
            "application/javascript": [
              "\n",
              "    async function download(id, filename, size) {\n",
              "      if (!google.colab.kernel.accessAllowed) {\n",
              "        return;\n",
              "      }\n",
              "      const div = document.createElement('div');\n",
              "      const label = document.createElement('label');\n",
              "      label.textContent = `Downloading \"${filename}\": `;\n",
              "      div.appendChild(label);\n",
              "      const progress = document.createElement('progress');\n",
              "      progress.max = size;\n",
              "      div.appendChild(progress);\n",
              "      document.body.appendChild(div);\n",
              "\n",
              "      const buffers = [];\n",
              "      let downloaded = 0;\n",
              "\n",
              "      const channel = await google.colab.kernel.comms.open(id);\n",
              "      // Send a message to notify the kernel that we're ready.\n",
              "      channel.send({})\n",
              "\n",
              "      for await (const message of channel.messages) {\n",
              "        // Send a message to notify the kernel that we're ready.\n",
              "        channel.send({})\n",
              "        if (message.buffers) {\n",
              "          for (const buffer of message.buffers) {\n",
              "            buffers.push(buffer);\n",
              "            downloaded += buffer.byteLength;\n",
              "            progress.value = downloaded;\n",
              "          }\n",
              "        }\n",
              "      }\n",
              "      const blob = new Blob(buffers, {type: 'application/binary'});\n",
              "      const a = document.createElement('a');\n",
              "      a.href = window.URL.createObjectURL(blob);\n",
              "      a.download = filename;\n",
              "      div.appendChild(a);\n",
              "      a.click();\n",
              "      div.remove();\n",
              "    }\n",
              "  "
            ]
          },
          "metadata": {}
        },
        {
          "output_type": "display_data",
          "data": {
            "text/plain": [
              "<IPython.core.display.Javascript object>"
            ],
            "application/javascript": [
              "download(\"download_0ab6569c-e501-401c-a5f1-2e46bc419c3c\", \"best_model_VGG16.keras\", 97482718)"
            ]
          },
          "metadata": {}
        }
      ],
      "source": [
        "from google.colab import files\n",
        "\n",
        "# # Download the model\n",
        "files.download('/content/best_model_VGG16.keras')\n",
        "\n",
        "# # Found 1002 images belonging to 2 classes.\n",
        "# # Found 250 images belonging to 2 classes.\n",
        "# # train {'bone_age_12': 0, 'bone_age_6': 1}\n",
        "# # valid  {'bone_age_12': 0, 'bone_age_6': 1}\n"
      ]
    },
    {
      "cell_type": "code",
      "execution_count": 18,
      "metadata": {
        "colab": {
          "base_uri": "https://localhost:8080/"
        },
        "id": "qWu3pvq4_EwB",
        "outputId": "60dd88dc-af1d-494e-e558-c631d595b4f5"
      },
      "outputs": [
        {
          "output_type": "stream",
          "name": "stdout",
          "text": [
            "Model loaded successfully!\n",
            "TensorFlow version: 2.17.0\n",
            "Keras version: 3.4.1\n"
          ]
        }
      ],
      "source": [
        "from tensorflow.keras.models import load_model\n",
        "\n",
        "# Load the saved model from Google Drive\n",
        "model_path = '/content/drive/MyDrive/dataset/best_model_VGG16.keras'\n",
        "model = load_model(model_path)\n",
        "\n",
        "print(\"Model loaded successfully!\")\n",
        "\n",
        "import tensorflow as tf\n",
        "print(\"TensorFlow version:\", tf.__version__)\n",
        "print(\"Keras version:\", tf.keras.__version__)\n"
      ]
    },
    {
      "cell_type": "code",
      "execution_count": 16,
      "metadata": {
        "colab": {
          "base_uri": "https://localhost:8080/"
        },
        "id": "jcmIiDzc_FTC",
        "outputId": "deb80e3b-9e53-4fe0-b742-1944d63ecf16"
      },
      "outputs": [
        {
          "output_type": "stream",
          "name": "stdout",
          "text": [
            "Found 48 images belonging to 2 classes.\n",
            "{'bone_age_12': 0, 'bone_age_6': 1}\n"
          ]
        }
      ],
      "source": [
        "import numpy as np\n",
        "from tensorflow.keras.preprocessing import image\n",
        "import os\n",
        "\n",
        "# Path to the test directory\n",
        "test_dir = '/content/drive/MyDrive/dataset/test'\n",
        "\n",
        "# Load and preprocess test images one by one\n",
        "test_datagen = ImageDataGenerator(rescale=1./255)  # Rescale images\n",
        "\n",
        "# Load images from the test directory\n",
        "test_generator = test_datagen.flow_from_directory(\n",
        "    test_dir,\n",
        "    target_size=(224, 224),\n",
        "    batch_size=1,  # One image at a time\n",
        "    class_mode=None,  # No labels as we just want predictions\n",
        "    shuffle=False  # Ensure images are processed in order\n",
        ")\n",
        "\n",
        "print(test_generator.class_indices)\n",
        "\n"
      ]
    },
    {
      "cell_type": "code",
      "execution_count": 17,
      "metadata": {
        "colab": {
          "base_uri": "https://localhost:8080/"
        },
        "id": "euUALiBm_Fks",
        "outputId": "28b50b1e-0363-41d6-da28-64b646642efc"
      },
      "outputs": [
        {
          "output_type": "stream",
          "name": "stdout",
          "text": [
            "\u001b[1m1/1\u001b[0m \u001b[32m━━━━━━━━━━━━━━━━━━━━\u001b[0m\u001b[37m\u001b[0m \u001b[1m2s\u001b[0m 2s/step\n",
            "bone_age_12/8747.png - Prediction: Bone Age 12 (Confidence: 0.71)\n",
            "\u001b[1m1/1\u001b[0m \u001b[32m━━━━━━━━━━━━━━━━━━━━\u001b[0m\u001b[37m\u001b[0m \u001b[1m0s\u001b[0m 17ms/step\n",
            "bone_age_12/8762.png - Prediction: Bone Age 12 (Confidence: 0.70)\n",
            "\u001b[1m1/1\u001b[0m \u001b[32m━━━━━━━━━━━━━━━━━━━━\u001b[0m\u001b[37m\u001b[0m \u001b[1m0s\u001b[0m 17ms/step\n",
            "bone_age_12/8768.png - Prediction: Bone Age 12 (Confidence: 0.64)\n",
            "\u001b[1m1/1\u001b[0m \u001b[32m━━━━━━━━━━━━━━━━━━━━\u001b[0m\u001b[37m\u001b[0m \u001b[1m0s\u001b[0m 24ms/step\n",
            "bone_age_12/8776.png - Prediction: Bone Age 12 (Confidence: 0.64)\n",
            "\u001b[1m1/1\u001b[0m \u001b[32m━━━━━━━━━━━━━━━━━━━━\u001b[0m\u001b[37m\u001b[0m \u001b[1m0s\u001b[0m 28ms/step\n",
            "bone_age_12/8796.png - Prediction: Bone Age 6 (Confidence: 0.53)\n",
            "\u001b[1m1/1\u001b[0m \u001b[32m━━━━━━━━━━━━━━━━━━━━\u001b[0m\u001b[37m\u001b[0m \u001b[1m0s\u001b[0m 32ms/step\n",
            "bone_age_12/8806.png - Prediction: Bone Age 12 (Confidence: 0.80)\n",
            "\u001b[1m1/1\u001b[0m \u001b[32m━━━━━━━━━━━━━━━━━━━━\u001b[0m\u001b[37m\u001b[0m \u001b[1m0s\u001b[0m 24ms/step\n",
            "bone_age_12/8810.png - Prediction: Bone Age 12 (Confidence: 0.71)\n",
            "\u001b[1m1/1\u001b[0m \u001b[32m━━━━━━━━━━━━━━━━━━━━\u001b[0m\u001b[37m\u001b[0m \u001b[1m0s\u001b[0m 19ms/step\n",
            "bone_age_12/8813.png - Prediction: Bone Age 12 (Confidence: 0.62)\n",
            "\u001b[1m1/1\u001b[0m \u001b[32m━━━━━━━━━━━━━━━━━━━━\u001b[0m\u001b[37m\u001b[0m \u001b[1m0s\u001b[0m 17ms/step\n",
            "bone_age_12/8823.png - Prediction: Bone Age 12 (Confidence: 0.58)\n",
            "\u001b[1m1/1\u001b[0m \u001b[32m━━━━━━━━━━━━━━━━━━━━\u001b[0m\u001b[37m\u001b[0m \u001b[1m0s\u001b[0m 16ms/step\n",
            "bone_age_12/8837.png - Prediction: Bone Age 12 (Confidence: 0.75)\n",
            "\u001b[1m1/1\u001b[0m \u001b[32m━━━━━━━━━━━━━━━━━━━━\u001b[0m\u001b[37m\u001b[0m \u001b[1m0s\u001b[0m 18ms/step\n",
            "bone_age_12/8846.png - Prediction: Bone Age 12 (Confidence: 0.58)\n",
            "\u001b[1m1/1\u001b[0m \u001b[32m━━━━━━━━━━━━━━━━━━━━\u001b[0m\u001b[37m\u001b[0m \u001b[1m0s\u001b[0m 16ms/step\n",
            "bone_age_12/8857.png - Prediction: Bone Age 12 (Confidence: 0.65)\n",
            "\u001b[1m1/1\u001b[0m \u001b[32m━━━━━━━━━━━━━━━━━━━━\u001b[0m\u001b[37m\u001b[0m \u001b[1m0s\u001b[0m 16ms/step\n",
            "bone_age_12/8878.png - Prediction: Bone Age 12 (Confidence: 0.81)\n",
            "\u001b[1m1/1\u001b[0m \u001b[32m━━━━━━━━━━━━━━━━━━━━\u001b[0m\u001b[37m\u001b[0m \u001b[1m0s\u001b[0m 16ms/step\n",
            "bone_age_12/8881.png - Prediction: Bone Age 12 (Confidence: 0.72)\n",
            "\u001b[1m1/1\u001b[0m \u001b[32m━━━━━━━━━━━━━━━━━━━━\u001b[0m\u001b[37m\u001b[0m \u001b[1m0s\u001b[0m 16ms/step\n",
            "bone_age_12/8888.png - Prediction: Bone Age 12 (Confidence: 0.68)\n",
            "\u001b[1m1/1\u001b[0m \u001b[32m━━━━━━━━━━━━━━━━━━━━\u001b[0m\u001b[37m\u001b[0m \u001b[1m0s\u001b[0m 16ms/step\n",
            "bone_age_12/8908.png - Prediction: Bone Age 12 (Confidence: 0.88)\n",
            "\u001b[1m1/1\u001b[0m \u001b[32m━━━━━━━━━━━━━━━━━━━━\u001b[0m\u001b[37m\u001b[0m \u001b[1m0s\u001b[0m 17ms/step\n",
            "bone_age_12/8912.png - Prediction: Bone Age 12 (Confidence: 0.69)\n",
            "\u001b[1m1/1\u001b[0m \u001b[32m━━━━━━━━━━━━━━━━━━━━\u001b[0m\u001b[37m\u001b[0m \u001b[1m0s\u001b[0m 17ms/step\n",
            "bone_age_12/8920.png - Prediction: Bone Age 6 (Confidence: 0.60)\n",
            "\u001b[1m1/1\u001b[0m \u001b[32m━━━━━━━━━━━━━━━━━━━━\u001b[0m\u001b[37m\u001b[0m \u001b[1m0s\u001b[0m 17ms/step\n",
            "bone_age_12/8922.png - Prediction: Bone Age 12 (Confidence: 0.62)\n",
            "\u001b[1m1/1\u001b[0m \u001b[32m━━━━━━━━━━━━━━━━━━━━\u001b[0m\u001b[37m\u001b[0m \u001b[1m0s\u001b[0m 18ms/step\n",
            "bone_age_12/8929.png - Prediction: Bone Age 12 (Confidence: 0.83)\n",
            "\u001b[1m1/1\u001b[0m \u001b[32m━━━━━━━━━━━━━━━━━━━━\u001b[0m\u001b[37m\u001b[0m \u001b[1m0s\u001b[0m 17ms/step\n",
            "bone_age_12/8937.png - Prediction: Bone Age 12 (Confidence: 0.57)\n",
            "\u001b[1m1/1\u001b[0m \u001b[32m━━━━━━━━━━━━━━━━━━━━\u001b[0m\u001b[37m\u001b[0m \u001b[1m0s\u001b[0m 16ms/step\n",
            "bone_age_12/8949.png - Prediction: Bone Age 12 (Confidence: 0.68)\n",
            "\u001b[1m1/1\u001b[0m \u001b[32m━━━━━━━━━━━━━━━━━━━━\u001b[0m\u001b[37m\u001b[0m \u001b[1m0s\u001b[0m 17ms/step\n",
            "bone_age_12/8965.png - Prediction: Bone Age 12 (Confidence: 0.69)\n",
            "\u001b[1m1/1\u001b[0m \u001b[32m━━━━━━━━━━━━━━━━━━━━\u001b[0m\u001b[37m\u001b[0m \u001b[1m0s\u001b[0m 16ms/step\n",
            "bone_age_12/8998.png - Prediction: Bone Age 12 (Confidence: 0.67)\n",
            "\u001b[1m1/1\u001b[0m \u001b[32m━━━━━━━━━━━━━━━━━━━━\u001b[0m\u001b[37m\u001b[0m \u001b[1m0s\u001b[0m 26ms/step\n",
            "bone_age_6/1381.png - Prediction: Bone Age 6 (Confidence: 0.97)\n",
            "\u001b[1m1/1\u001b[0m \u001b[32m━━━━━━━━━━━━━━━━━━━━\u001b[0m\u001b[37m\u001b[0m \u001b[1m0s\u001b[0m 28ms/step\n",
            "bone_age_6/1414.png - Prediction: Bone Age 6 (Confidence: 0.95)\n",
            "\u001b[1m1/1\u001b[0m \u001b[32m━━━━━━━━━━━━━━━━━━━━\u001b[0m\u001b[37m\u001b[0m \u001b[1m0s\u001b[0m 26ms/step\n",
            "bone_age_6/1482.png - Prediction: Bone Age 6 (Confidence: 0.95)\n",
            "\u001b[1m1/1\u001b[0m \u001b[32m━━━━━━━━━━━━━━━━━━━━\u001b[0m\u001b[37m\u001b[0m \u001b[1m0s\u001b[0m 18ms/step\n",
            "bone_age_6/1496.png - Prediction: Bone Age 6 (Confidence: 0.96)\n",
            "\u001b[1m1/1\u001b[0m \u001b[32m━━━━━━━━━━━━━━━━━━━━\u001b[0m\u001b[37m\u001b[0m \u001b[1m0s\u001b[0m 17ms/step\n",
            "bone_age_6/2942.png - Prediction: Bone Age 6 (Confidence: 0.92)\n",
            "\u001b[1m1/1\u001b[0m \u001b[32m━━━━━━━━━━━━━━━━━━━━\u001b[0m\u001b[37m\u001b[0m \u001b[1m0s\u001b[0m 16ms/step\n",
            "bone_age_6/3008.png - Prediction: Bone Age 6 (Confidence: 0.92)\n",
            "\u001b[1m1/1\u001b[0m \u001b[32m━━━━━━━━━━━━━━━━━━━━\u001b[0m\u001b[37m\u001b[0m \u001b[1m0s\u001b[0m 26ms/step\n",
            "bone_age_6/3387.png - Prediction: Bone Age 6 (Confidence: 0.94)\n",
            "\u001b[1m1/1\u001b[0m \u001b[32m━━━━━━━━━━━━━━━━━━━━\u001b[0m\u001b[37m\u001b[0m \u001b[1m0s\u001b[0m 16ms/step\n",
            "bone_age_6/3444.png - Prediction: Bone Age 6 (Confidence: 0.93)\n",
            "\u001b[1m1/1\u001b[0m \u001b[32m━━━━━━━━━━━━━━━━━━━━\u001b[0m\u001b[37m\u001b[0m \u001b[1m0s\u001b[0m 17ms/step\n",
            "bone_age_6/3518.png - Prediction: Bone Age 6 (Confidence: 0.98)\n",
            "\u001b[1m1/1\u001b[0m \u001b[32m━━━━━━━━━━━━━━━━━━━━\u001b[0m\u001b[37m\u001b[0m \u001b[1m0s\u001b[0m 16ms/step\n",
            "bone_age_6/3539.png - Prediction: Bone Age 6 (Confidence: 0.94)\n",
            "\u001b[1m1/1\u001b[0m \u001b[32m━━━━━━━━━━━━━━━━━━━━\u001b[0m\u001b[37m\u001b[0m \u001b[1m0s\u001b[0m 19ms/step\n",
            "bone_age_6/3574.png - Prediction: Bone Age 6 (Confidence: 0.98)\n",
            "\u001b[1m1/1\u001b[0m \u001b[32m━━━━━━━━━━━━━━━━━━━━\u001b[0m\u001b[37m\u001b[0m \u001b[1m0s\u001b[0m 18ms/step\n",
            "bone_age_6/3593.png - Prediction: Bone Age 6 (Confidence: 0.98)\n",
            "\u001b[1m1/1\u001b[0m \u001b[32m━━━━━━━━━━━━━━━━━━━━\u001b[0m\u001b[37m\u001b[0m \u001b[1m0s\u001b[0m 16ms/step\n",
            "bone_age_6/3671.png - Prediction: Bone Age 6 (Confidence: 0.96)\n",
            "\u001b[1m1/1\u001b[0m \u001b[32m━━━━━━━━━━━━━━━━━━━━\u001b[0m\u001b[37m\u001b[0m \u001b[1m0s\u001b[0m 21ms/step\n",
            "bone_age_6/3672.png - Prediction: Bone Age 6 (Confidence: 0.98)\n",
            "\u001b[1m1/1\u001b[0m \u001b[32m━━━━━━━━━━━━━━━━━━━━\u001b[0m\u001b[37m\u001b[0m \u001b[1m0s\u001b[0m 16ms/step\n",
            "bone_age_6/3690.png - Prediction: Bone Age 6 (Confidence: 0.93)\n",
            "\u001b[1m1/1\u001b[0m \u001b[32m━━━━━━━━━━━━━━━━━━━━\u001b[0m\u001b[37m\u001b[0m \u001b[1m0s\u001b[0m 18ms/step\n",
            "bone_age_6/3817.png - Prediction: Bone Age 6 (Confidence: 0.98)\n",
            "\u001b[1m1/1\u001b[0m \u001b[32m━━━━━━━━━━━━━━━━━━━━\u001b[0m\u001b[37m\u001b[0m \u001b[1m0s\u001b[0m 21ms/step\n",
            "bone_age_6/3886.png - Prediction: Bone Age 6 (Confidence: 0.99)\n",
            "\u001b[1m1/1\u001b[0m \u001b[32m━━━━━━━━━━━━━━━━━━━━\u001b[0m\u001b[37m\u001b[0m \u001b[1m0s\u001b[0m 19ms/step\n",
            "bone_age_6/3887.png - Prediction: Bone Age 6 (Confidence: 0.92)\n",
            "\u001b[1m1/1\u001b[0m \u001b[32m━━━━━━━━━━━━━━━━━━━━\u001b[0m\u001b[37m\u001b[0m \u001b[1m0s\u001b[0m 17ms/step\n",
            "bone_age_6/5660.png - Prediction: Bone Age 6 (Confidence: 0.73)\n",
            "\u001b[1m1/1\u001b[0m \u001b[32m━━━━━━━━━━━━━━━━━━━━\u001b[0m\u001b[37m\u001b[0m \u001b[1m0s\u001b[0m 19ms/step\n",
            "bone_age_6/5661.png - Prediction: Bone Age 6 (Confidence: 0.71)\n",
            "\u001b[1m1/1\u001b[0m \u001b[32m━━━━━━━━━━━━━━━━━━━━\u001b[0m\u001b[37m\u001b[0m \u001b[1m0s\u001b[0m 20ms/step\n",
            "bone_age_6/5683.png - Prediction: Bone Age 12 (Confidence: 0.60)\n",
            "\u001b[1m1/1\u001b[0m \u001b[32m━━━━━━━━━━━━━━━━━━━━\u001b[0m\u001b[37m\u001b[0m \u001b[1m0s\u001b[0m 30ms/step\n",
            "bone_age_6/5691.png - Prediction: Bone Age 6 (Confidence: 0.74)\n",
            "\u001b[1m1/1\u001b[0m \u001b[32m━━━━━━━━━━━━━━━━━━━━\u001b[0m\u001b[37m\u001b[0m \u001b[1m0s\u001b[0m 25ms/step\n",
            "bone_age_6/5721.png - Prediction: Bone Age 6 (Confidence: 0.82)\n",
            "\u001b[1m1/1\u001b[0m \u001b[32m━━━━━━━━━━━━━━━━━━━━\u001b[0m\u001b[37m\u001b[0m \u001b[1m0s\u001b[0m 28ms/step\n",
            "bone_age_6/5851.png - Prediction: Bone Age 6 (Confidence: 0.84)\n"
          ]
        }
      ],
      "source": [
        "# Get the filenames of the images in the test directory\n",
        "filenames = test_generator.filenames\n",
        "\n",
        "# Predict for each image\n",
        "for i, file in enumerate(filenames):\n",
        "    img = test_generator[i]  # Get the image (already preprocessed)\n",
        "    prediction = model.predict(img)  # Get the prediction\n",
        "\n",
        "    # Since 'bone_age_12' is class 0 and 'bone_age_6' is class 1:\n",
        "    if prediction >= 0.5:\n",
        "        print(f\"{file} - Prediction: Bone Age 6 (Confidence: {prediction[0][0]:.2f})\")\n",
        "    else:\n",
        "        print(f\"{file} - Prediction: Bone Age 12 (Confidence: {1 - prediction[0][0]:.2f})\")\n",
        "\n"
      ]
    },
    {
      "cell_type": "code",
      "source": [],
      "metadata": {
        "id": "oYlSdkOEfOwN"
      },
      "execution_count": null,
      "outputs": []
    },
    {
      "cell_type": "code",
      "execution_count": 16,
      "metadata": {
        "id": "00Xt7R3dOr1F"
      },
      "outputs": [],
      "source": []
    }
  ],
  "metadata": {
    "accelerator": "GPU",
    "colab": {
      "gpuType": "T4",
      "provenance": []
    },
    "kernelspec": {
      "display_name": "Python 3",
      "name": "python3"
    },
    "language_info": {
      "codemirror_mode": {
        "name": "ipython",
        "version": 3
      },
      "file_extension": ".py",
      "mimetype": "text/x-python",
      "name": "python",
      "nbconvert_exporter": "python",
      "pygments_lexer": "ipython3",
      "version": "3.10.12"
    }
  },
  "nbformat": 4,
  "nbformat_minor": 0
}

from sklearn.metrics import classification_report, confusion_matrix, accuracy_score
import seaborn as sns
import matplotlib.pyplot as plt
from tensorflow.keras.models import load_model

# Load the trained model
model_path = '/content/drive/MyDrive/dataset/best_model_VGG16.keras'
model = load_model(model_path)
print("Model loaded successfully!")

# Path to the test directory
test_dir = '/content/drive/MyDrive/dataset/test'

# Load and preprocess test images
test_datagen = ImageDataGenerator(rescale=1./255)  # Rescale images

test_generator = test_datagen.flow_from_directory(
    test_dir,
    target_size=(224, 224),
    batch_size=1,  # One image at a time
    class_mode='binary',  # Since we have two classes (bone_age_6 and bone_age_12)
    shuffle=False  # Ensure images are processed in order
)

# Get the filenames and true labels
filenames = test_generator.filenames
true_labels = test_generator.classes  # This gives the actual class of each image

# Predict classes for the images
predictions = model.predict(test_generator)
predicted_classes = (predictions >= 0.5).astype(int).flatten()  # Threshold at 0.5 for binary classification

# Generate the confusion matrix
cm = confusion_matrix(true_labels, predicted_classes)

# Display the confusion matrix using Seaborn's heatmap
plt.figure(figsize=(8, 6))
sns.heatmap(cm, annot=True, fmt='d', cmap='Blues', xticklabels=['Bone Age 12', 'Bone Age 6'], yticklabels=['Bone Age 12', 'Bone Age 6'])
plt.xlabel('Predicted')
plt.ylabel('True')
plt.title('Confusion Matrix')
plt.show()

# Calculate accuracy for each class manually
accuracy_bone_age_12 = cm[0, 0] / sum(cm[0, :])  # TP / (TP + FN) for Bone Age 12
accuracy_bone_age_6 = cm[1, 1] / sum(cm[1, :])   # TP / (TP + FN) for Bone Age 6

# Print classification report without macro avg and weighted avg
report = classification_report(true_labels, predicted_classes, target_names=['Bone Age 12', 'Bone Age 6'], output_dict=True)

# Add the accuracy to the report for each class
report['Bone Age 12']['accuracy'] = accuracy_bone_age_12
report['Bone Age 6']['accuracy'] = accuracy_bone_age_6

# Create a DataFrame to display the modified table
import pandas as pd
df = pd.DataFrame(report).transpose()

# Drop the macro avg and weighted avg rows
df = df.drop(['macro avg', 'weighted avg', 'accuracy'])

# Reorder columns to include accuracy at the end
df = df[[ 'accuracy', 'precision', 'recall', 'f1-score', 'support']]

# Round the values to 2 decimal places
df = df.round(2)

# Display the modified classification report
print(df)
